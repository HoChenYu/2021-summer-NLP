{
 "cells": [
  {
   "cell_type": "code",
   "execution_count": 19,
   "metadata": {},
   "outputs": [
    {
     "name": "stderr",
     "output_type": "stream",
     "text": [
      "Building prefix dict from C:\\Users\\Alex\\dict.txt ...\n",
      "Loading model from cache C:\\Users\\Alex\\AppData\\Local\\Temp\\jieba.ue06a7f8ae4beec3dff98ee7d2695c488.cache\n",
      "Loading model cost 0.601 seconds.\n",
      "Prefix dict has been built successfully.\n"
     ]
    }
   ],
   "source": [
    "from sklearn.feature_extraction.text import TfidfTransformer \n",
    "from sklearn.feature_extraction.text import TfidfVectorizer\n",
    "from sklearn.feature_extraction.text import CountVectorizer\n",
    "import pandas as pd\n",
    "import math\n",
    "from sklearn.preprocessing import normalize\n",
    "import csv\n",
    "import jieba\n",
    "name = []\n",
    "briefIntro = []\n",
    "jieba.set_dictionary('dict.txt')\n",
    "with open('hw3data.csv',encoding='utf-8') as csvfile:\n",
    "    rows = list(csv.reader(csvfile)) #rows[0]為第0筆資料\n",
    "    for row in rows[1:6001] : #第一列後的資料\n",
    "        name.append(row[1])\n",
    "        text = row[4]\n",
    "        jiebaText = ' '.join(jieba.cut(text, cut_all=False, HMM=True))\n",
    "        briefIntro.append(jiebaText)"
   ]
  },
  {
   "cell_type": "code",
   "execution_count": 20,
   "metadata": {},
   "outputs": [
    {
     "name": "stdout",
     "output_type": "stream",
     "text": [
      "56\n"
     ]
    }
   ],
   "source": [
    "from sklearn.feature_extraction.text import CountVectorizer\n",
    "# step 1\n",
    "vectoerizer = CountVectorizer(min_df=1, max_df=1.0, token_pattern='\\\\b\\\\w+\\\\b')\n",
    "# step 2\n",
    "vectoerizer.fit(briefIntro)\n",
    "# step 3\n",
    "bag_of_words = vectoerizer.get_feature_names()\n",
    "\n",
    "#print(\"Bag of words:\")\n",
    "#print(bag_of_words)\n",
    "print(len(bag_of_words))"
   ]
  },
  {
   "cell_type": "code",
   "execution_count": 21,
   "metadata": {},
   "outputs": [],
   "source": [
    "bagArr = []\n",
    "bagArr.append(bag_of_words)\n",
    "df = pd.DataFrame(bagArr)\n",
    "df.to_csv('bag_of_words.csv', encoding='utf_8_sig')\n",
    "\n",
    "# step 4\n",
    "X = vectoerizer.transform(briefIntro)\n",
    "#print(\"Vectorized corpus:\")\n",
    "#print(X.toarray())"
   ]
  },
  {
   "cell_type": "code",
   "execution_count": 22,
   "metadata": {},
   "outputs": [],
   "source": [
    "from sklearn.feature_extraction.text import TfidfTransformer\n",
    "# step 1\n",
    "tfidf_transformer = TfidfTransformer()\n",
    "# step 2\n",
    "tfidf_transformer.fit(X.toarray())\n",
    "# step 4\n",
    "tfidf = tfidf_transformer.transform(X)\n",
    "arr = tfidf.toarray()\n",
    "arr1 = arr[0:1500].tolist()\n",
    "arr2 = arr[1500:3000].tolist()\n",
    "arr3 = arr[3000:4500].tolist()\n",
    "arr4 = arr[4500:6001].tolist()\n",
    "allArr = []\n",
    "allArr = allArr + bagArr + arr1 + arr2 + arr3 + arr4\n",
    "import pandas as pd\n",
    "df = pd.DataFrame(allArr)\n",
    "df.to_csv('arr.csv', encoding='utf_8_sig')"
   ]
  },
  {
   "cell_type": "code",
   "execution_count": 23,
   "metadata": {},
   "outputs": [],
   "source": [
    "from sklearn.neighbors import KNeighborsClassifier\n",
    "import pandas as pd\n",
    "import numpy as np\n",
    "import matplotlib.pyplot as plt\n",
    "from sklearn import datasets\n",
    "from sklearn.model_selection import train_test_split\n",
    "from sklearn import metrics\n",
    "import csv\n",
    "data = []\n",
    "target = []\n",
    "with open('./arr.csv', encoding='utf-8') as csvfile:\n",
    "    rows = list(csv.reader(csvfile))\n",
    "    for row in rows[2:6002]:\n",
    "        data.append(row[0:5])\n",
    "floatData = []        \n",
    "for i in data:\n",
    "    tempFloatData = []\n",
    "    for x in i :\n",
    "        tempFloatData.append(float(x))\n",
    "    floatData.append(tempFloatData)"
   ]
  },
  {
   "cell_type": "code",
   "execution_count": 24,
   "metadata": {},
   "outputs": [],
   "source": [
    "with open('hw3data.csv', encoding='utf-8') as csvfile:\n",
    "    rows = list(csv.reader(csvfile))\n",
    "    for row in rows[1:6001]:\n",
    "        level = row[3][:2]\n",
    "        if level == '犯罪':\n",
    "            level = 0\n",
    "        elif level == '奇幻':\n",
    "            level = 1\n",
    "        elif level == '冒險':\n",
    "            level = 2\n",
    "        elif level == '科幻':\n",
    "            level = 3           \n",
    "        elif level == '紀錄':\n",
    "            level = 4           \n",
    "        elif level == '音樂':\n",
    "            level = 5            \n",
    "        elif level == '恐怖':\n",
    "            level = 6            \n",
    "        elif level == '動作':\n",
    "            level = 7\n",
    "        elif level == '動畫':\n",
    "            level = 8            \n",
    "        elif level == '喜劇':\n",
    "            level = 9            \n",
    "        elif level == '愛情':\n",
    "            level = 10           \n",
    "        elif level == '溫馨':\n",
    "            level = 11            \n",
    "        elif level == '劇情':\n",
    "            level = 12            \n",
    "        elif level == '影展':\n",
    "            level = 13            \n",
    "        elif level == '戰爭':\n",
    "            level = 14\n",
    "        elif level == '歷史':\n",
    "            level = 15            \n",
    "        elif level == '勵志':\n",
    "            level = 16            \n",
    "        elif level == '懸疑':\n",
    "            level = 17      \n",
    "        target.append(level)"
   ]
  },
  {
   "cell_type": "code",
   "execution_count": 25,
   "metadata": {},
   "outputs": [
    {
     "data": {
      "text/plain": [
       "KNeighborsClassifier(algorithm='brute', n_neighbors=7, weights='distance')"
      ]
     },
     "execution_count": 25,
     "metadata": {},
     "output_type": "execute_result"
    }
   ],
   "source": [
    "X=floatData\n",
    "y=target\n",
    "X_train, X_test, y_train, y_test = train_test_split(X, y,test_size=0.001,random_state=1)\n",
    "#n_neighbors=k\n",
    "#p=2 歐基里德距離\n",
    "#algorithm: 'auto'/'brute'/'kd_tree'/'ball_tree'\n",
    "clf=KNeighborsClassifier(n_neighbors=7,p=2,weights='distance',algorithm='brute')\n",
    "clf.fit(X_train,y_train)"
   ]
  },
  {
   "cell_type": "code",
   "execution_count": 26,
   "metadata": {},
   "outputs": [
    {
     "data": {
      "text/plain": [
       "0.16666666666666666"
      ]
     },
     "execution_count": 26,
     "metadata": {},
     "output_type": "execute_result"
    }
   ],
   "source": [
    "#準確率\n",
    "clf.score(X_test,y_test)"
   ]
  },
  {
   "cell_type": "code",
   "execution_count": null,
   "metadata": {},
   "outputs": [],
   "source": []
  }
 ],
 "metadata": {
  "kernelspec": {
   "display_name": "Python 3",
   "language": "python",
   "name": "python3"
  },
  "language_info": {
   "codemirror_mode": {
    "name": "ipython",
    "version": 3
   },
   "file_extension": ".py",
   "mimetype": "text/x-python",
   "name": "python",
   "nbconvert_exporter": "python",
   "pygments_lexer": "ipython3",
   "version": "3.8.5"
  }
 },
 "nbformat": 4,
 "nbformat_minor": 4
}
