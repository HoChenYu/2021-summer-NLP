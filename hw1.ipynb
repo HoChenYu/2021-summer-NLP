{
 "cells": [
  {
   "cell_type": "code",
   "execution_count": 7,
   "metadata": {},
   "outputs": [
    {
     "name": "stdout",
     "output_type": "stream",
     "text": [
      "八卦          79119\n",
      "台灣          35851\n",
      "肥宅          21771\n",
      "真的          16890\n",
      "如果          10690\n",
      "中國          10230\n",
      "一堆          10098\n",
      "有人           9666\n",
      "女生           8630\n",
      "日本           8594\n",
      "喜歡           6782\n",
      "朋友           6303\n",
      "感覺           6147\n",
      "這種           5414\n",
      "美國           5358\n",
      "不用           5230\n",
      "正妹           4833\n",
      "其實           4623\n",
      "只有           4487\n",
      "東西           4368\n",
      "台北           4288\n",
      "QQ           3990\n",
      "時間           3965\n",
      "妹妹           3812\n",
      "哪裡           3806\n",
      "世界           3792\n",
      "沒人           3725\n",
      "甚麼           3700\n",
      "發現           3559\n",
      "中國人          3554\n",
      "國家           3554\n",
      "不到           3494\n",
      "工作           3483\n",
      "男生           3323\n",
      "好吃           3320\n",
      "公司           3199\n",
      "老婆           3157\n",
      "女友           3146\n",
      "老師           2943\n",
      "大學           2937\n",
      "邊緣           2807\n",
      "南部           2744\n",
      "需要           2726\n",
      "好像           2712\n",
      "遊戲           2690\n",
      "第一           2640\n",
      "手機           2595\n",
      "垃圾           2587\n",
      "一點           2587\n",
      "只能           2536\n",
      "才能           2533\n",
      "10           2503\n",
      "小孩           2435\n",
      "還好           2394\n",
      "電影           2378\n",
      "新聞           2378\n",
      "韓國           2370\n",
      "鄉民           2360\n",
      "XD           2285\n",
      "的掛           2237\n",
      "地方           2193\n",
      "容易           2191\n",
      "不過           2181\n",
      "有加           2112\n",
      "ptt          2110\n",
      "工具           2097\n",
      "英文           2085\n",
      "最強           2071\n",
      "警察           2067\n",
      "注意           2033\n",
      "明天           2028\n",
      "不好           2026\n",
      "不想           2012\n",
      "多久           2006\n",
      "請問           1996\n",
      "最近           1991\n",
      "結婚           1974\n",
      "機會           1967\n",
      "高中           1956\n",
      "上班           1956\n",
      "高雄           1948\n",
      "兩個           1947\n",
      "怎辦           1936\n",
      "搞頭           1933\n",
      "支持           1932\n",
      "畢業           1932\n",
      "學校           1917\n",
      "女森           1906\n",
      "人生           1898\n",
      "名字           1891\n",
      "那種           1883\n",
      "不錯           1874\n",
      "記得           1873\n",
      "學生           1867\n",
      "算是           1843\n",
      "有什麼          1837\n",
      "人類           1826\n",
      "這是           1811\n",
      "PTT          1789\n",
      "還在           1771\n"
     ]
    },
    {
     "data": {
      "image/png": "[encoded data removed]",
      "text/plain": [
       "<Figure size 432x288 with 1 Axes>"
      ]
     },
     "metadata": {
      "needs_background": "light"
     },
     "output_type": "display_data"
    }
   ],
   "source": [
    "import jieba  \n",
    "txt = open(\"hw1-dataset.txt\", encoding=\"utf-8\").read()  \n",
    "#加載停用詞表  \n",
    "stopwords = [line.strip() for line in open(\"hw1-stopset.txt\",encoding=\"utf-8\").readlines()]  \n",
    "words  = jieba.lcut(txt)  \n",
    "counts = {}  \n",
    "for word in words:  \n",
    "    #不在停用詞表中  \n",
    "    if word not in stopwords:  \n",
    "        #不統計字數爲一的詞  \n",
    "        if len(word) == 1:  \n",
    "            continue  \n",
    "        else:  \n",
    "            counts[word] = counts.get(word,0) + 1  \n",
    "items = list(counts.items())  \n",
    "items.sort(key=lambda x:x[1], reverse=True)\n",
    "word=[]\n",
    "count=[]\n",
    "for i in range(100):\n",
    "    a, b = items[i]\n",
    "    word.append(a)\n",
    "    count.append(b)\n",
    "    index=range(100)\n",
    "    print (\"{:<10}{:>7}\".format(a, b, linestyle=\". -\") )\n",
    "plt.plot(index,count) #畫線\n",
    "plt.xlabel('No.') # 設定x軸標題\n",
    "plt.ylabel('Occurrences') # 設定y軸標題\n",
    "plt.title('The frequency of words') # 設定圖表標題\n",
    "plt.show()"
   ]
  },
  {
   "cell_type": "markdown",
   "metadata": {},
   "source": [
    "## TF-IDF"
   ]
  },
  {
   "cell_type": "code",
   "execution_count": 41,
   "metadata": {},
   "outputs": [],
   "source": [
    "import matplotlib.pyplot as plt\n",
    "import numpy as np\n",
    "import jieba\n",
    "import jieba.analyse\n",
    "from optparse import OptionParser\n",
    "txt = open(\"hw1-dataset.txt\", encoding=\"utf-8\").read()  \n",
    "words  = jieba.lcut(txt)  \n",
    "counts = {}  \n",
    "tfidfj=jieba.analyse.extract_tags(txt, topK=100, withWeight=True, allowPOS=())\n",
    "c=[]\n",
    "for i in range(100):\n",
    "    c.append(tfidfj[i][1])"
   ]
  },
  {
   "cell_type": "code",
   "execution_count": 42,
   "metadata": {},
   "outputs": [
    {
     "data": {
      "image/png": "[encoded data removed]",
      "text/plain": [
       "<Figure size 432x288 with 1 Axes>"
      ]
     },
     "metadata": {
      "needs_background": "light"
     },
     "output_type": "display_data"
    }
   ],
   "source": [
    "plt.plot(range(100),c)\n",
    "plt.show() #顯示繪製的圖形\n"
   ]
  },
  {
   "cell_type": "code",
   "execution_count": 43,
   "metadata": {},
   "outputs": [
    {
     "name": "stdout",
     "output_type": "stream",
     "text": [
      "八卦,台灣,肥宅,中國,真的,喜歡,一堆,感覺,女生,這種,美國,正妹,其實,東西,有人,QQ,時間,哪裡,沒人,甚麼,日本,發現,中國人,國家,如果,朋友,台北,老師,大學,邊緣,遊戲,不用,手機,一點,男生,10,女友,還好,電影,新聞,韓國,鄉民,XD,好吃,妹妹,的掛,不過,ptt,最強,請問,結婚,機會,兩個,怎辦,搞頭,畢業,學校,女森,那種,金城武,不錯,記得,學生,有什麼,人類,這是,PTT,老婆,還在,社會,垃圾,裡面,看過,機車,有加,發生,怎麼樣,睡覺,只有,30,只會,同學,討厭,20,哪種,....,不到,小時,當年,輕人,甲甲,還會,小孩,高雄,幹嘛,過譽,der,辦法,網路,國外\n"
     ]
    }
   ],
   "source": [
    "import jieba\n",
    "import jieba.analyse\n",
    "content = open('hw1-dataset.txt', 'r', encoding='utf-8').read()\n",
    "jieba.analyse.set_stop_words(\"hw1-stopset.txt\")\n",
    "tags = jieba.analyse.extract_tags(content, topK=100)\n",
    "print(\",\".join(tags))"
   ]
  },
  {
   "cell_type": "code",
   "execution_count": 44,
   "metadata": {},
   "outputs": [
    {
     "name": "stdout",
     "output_type": "stream",
     "text": [
      "tag:八卦\t\t weight:0.238484\n",
      "tag:台灣\t\t weight:0.148360\n",
      "tag:肥宅\t\t weight:0.090094\n",
      "tag:中國\t\t weight:0.042334\n",
      "tag:真的\t\t weight:0.032938\n",
      "tag:喜歡\t\t weight:0.028066\n",
      "tag:一堆\t\t weight:0.026624\n",
      "tag:感覺\t\t weight:0.025438\n",
      "tag:女生\t\t weight:0.025242\n",
      "tag:這種\t\t weight:0.022404\n",
      "tag:美國\t\t weight:0.022173\n",
      "tag:正妹\t\t weight:0.020000\n",
      "tag:其實\t\t weight:0.019131\n",
      "tag:東西\t\t weight:0.018076\n",
      "tag:有人\t\t weight:0.016792\n",
      "tag:QQ\t\t weight:0.016512\n",
      "tag:時間\t\t weight:0.016408\n",
      "tag:哪裡\t\t weight:0.015750\n",
      "tag:沒人\t\t weight:0.015415\n",
      "tag:甚麼\t\t weight:0.015311\n",
      "tag:日本\t\t weight:0.014893\n",
      "tag:發現\t\t weight:0.014728\n",
      "tag:中國人\t\t weight:0.014707\n",
      "tag:國家\t\t weight:0.014707\n",
      "tag:如果\t\t weight:0.014676\n",
      "tag:朋友\t\t weight:0.012757\n",
      "tag:台北\t\t weight:0.012391\n",
      "tag:老師\t\t weight:0.012179\n",
      "tag:大學\t\t weight:0.012154\n",
      "tag:邊緣\t\t weight:0.011616\n",
      "tag:遊戲\t\t weight:0.011132\n",
      "tag:不用\t\t weight:0.010879\n",
      "tag:手機\t\t weight:0.010739\n",
      "tag:一點\t\t weight:0.010706\n",
      "tag:男生\t\t weight:0.010502\n",
      "tag:10\t\t weight:0.010358\n",
      "tag:女友\t\t weight:0.010134\n",
      "tag:還好\t\t weight:0.009907\n",
      "tag:電影\t\t weight:0.009841\n",
      "tag:新聞\t\t weight:0.009841\n",
      "tag:韓國\t\t weight:0.009808\n",
      "tag:鄉民\t\t weight:0.009766\n",
      "tag:XD\t\t weight:0.009456\n",
      "tag:好吃\t\t weight:0.009307\n",
      "tag:妹妹\t\t weight:0.009272\n",
      "tag:的掛\t\t weight:0.009257\n",
      "tag:不過\t\t weight:0.009025\n",
      "tag:ptt\t\t weight:0.008732\n",
      "tag:最強\t\t weight:0.008570\n",
      "tag:請問\t\t weight:0.008260\n",
      "tag:結婚\t\t weight:0.008169\n",
      "tag:機會\t\t weight:0.008140\n",
      "tag:兩個\t\t weight:0.008057\n",
      "tag:怎辦\t\t weight:0.008012\n",
      "tag:搞頭\t\t weight:0.007999\n",
      "tag:畢業\t\t weight:0.007995\n",
      "tag:學校\t\t weight:0.007933\n",
      "tag:女森\t\t weight:0.007887\n",
      "tag:那種\t\t weight:0.007792\n",
      "tag:金城武\t\t weight:0.007766\n",
      "tag:不錯\t\t weight:0.007755\n",
      "tag:記得\t\t weight:0.007751\n",
      "tag:學生\t\t weight:0.007726\n",
      "tag:有什麼\t\t weight:0.007602\n",
      "tag:人類\t\t weight:0.007556\n",
      "tag:這是\t\t weight:0.007494\n",
      "tag:PTT\t\t weight:0.007403\n",
      "tag:老婆\t\t weight:0.007334\n",
      "tag:還在\t\t weight:0.007329\n",
      "tag:社會\t\t weight:0.007167\n",
      "tag:垃圾\t\t weight:0.007155\n",
      "tag:裡面\t\t weight:0.007130\n",
      "tag:看過\t\t weight:0.007081\n",
      "tag:機車\t\t weight:0.006969\n",
      "tag:有加\t\t weight:0.006833\n",
      "tag:發生\t\t weight:0.006832\n",
      "tag:怎麼樣\t\t weight:0.006828\n",
      "tag:睡覺\t\t weight:0.006795\n",
      "tag:只有\t\t weight:0.006783\n",
      "tag:30\t\t weight:0.006754\n",
      "tag:只會\t\t weight:0.006737\n",
      "tag:同學\t\t weight:0.006725\n",
      "tag:討厭\t\t weight:0.006720\n",
      "tag:20\t\t weight:0.006654\n",
      "tag:哪種\t\t weight:0.006609\n",
      "tag:....\t\t weight:0.006518\n",
      "tag:不到\t\t weight:0.006454\n",
      "tag:小時\t\t weight:0.006435\n",
      "tag:當年\t\t weight:0.006398\n",
      "tag:輕人\t\t weight:0.006389\n",
      "tag:甲甲\t\t weight:0.006365\n",
      "tag:還會\t\t weight:0.006365\n",
      "tag:小孩\t\t weight:0.006352\n",
      "tag:高雄\t\t weight:0.006317\n",
      "tag:幹嘛\t\t weight:0.006307\n",
      "tag:過譽\t\t weight:0.006278\n",
      "tag:der\t\t weight:0.006240\n",
      "tag:辦法\t\t weight:0.006191\n",
      "tag:網路\t\t weight:0.006191\n",
      "tag:國外\t\t weight:0.006154\n"
     ]
    }
   ],
   "source": [
    "import jieba\n",
    "import jieba.analyse\n",
    "content = open('hw1-dataset.txt', 'r', encoding='utf-8').read()\n",
    "jieba.analyse.set_stop_words(\"hw1-stopset.txt\")\n",
    "tags = jieba.analyse.extract_tags(content, topK=100, withWeight=True)\n",
    "for tag in tags:\n",
    "    print(\"tag:%s\\t\\t weight:%f\"%(tag[0],tag[1]))"
   ]
  },
  {
   "cell_type": "code",
   "execution_count": null,
   "metadata": {},
   "outputs": [],
   "source": []
  },
  {
   "cell_type": "code",
   "execution_count": null,
   "metadata": {},
   "outputs": [],
   "source": []
  }
 ],
 "metadata": {
  "kernelspec": {
   "display_name": "Python 3",
   "language": "python",
   "name": "python3"
  },
  "language_info": {
   "codemirror_mode": {
    "name": "ipython",
    "version": 3
   },
   "file_extension": ".py",
   "mimetype": "text/x-python",
   "name": "python",
   "nbconvert_exporter": "python",
   "pygments_lexer": "ipython3",
   "version": "3.8.5"
  }
 },
 "nbformat": 4,
 "nbformat_minor": 4
}
