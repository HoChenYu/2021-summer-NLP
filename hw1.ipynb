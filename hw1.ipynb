{
 "cells": [
  {
   "cell_type": "code",
   "execution_count": 7,
   "metadata": {},
   "outputs": [
    {
     "name": "stdout",
     "output_type": "stream",
     "text": [
      "八卦          79119\n",
      "台灣          35851\n",
      "肥宅          21771\n",
      "真的          16890\n",
      "如果          10690\n",
      "中國          10230\n",
      "一堆          10098\n",
      "有人           9666\n",
      "女生           8630\n",
      "日本           8594\n",
      "喜歡           6782\n",
      "朋友           6303\n",
      "感覺           6147\n",
      "這種           5414\n",
      "美國           5358\n",
      "不用           5230\n",
      "正妹           4833\n",
      "其實           4623\n",
      "只有           4487\n",
      "東西           4368\n",
      "台北           4288\n",
      "QQ           3990\n",
      "時間           3965\n",
      "妹妹           3812\n",
      "哪裡           3806\n",
      "世界           3792\n",
      "沒人           3725\n",
      "甚麼           3700\n",
      "發現           3559\n",
      "中國人          3554\n",
      "國家           3554\n",
      "不到           3494\n",
      "工作           3483\n",
      "男生           3323\n",
      "好吃           3320\n",
      "公司           3199\n",
      "老婆           3157\n",
      "女友           3146\n",
      "老師           2943\n",
      "大學           2937\n",
      "邊緣           2807\n",
      "南部           2744\n",
      "需要           2726\n",
      "好像           2712\n",
      "遊戲           2690\n",
      "第一           2640\n",
      "手機           2595\n",
      "垃圾           2587\n",
      "一點           2587\n",
      "只能           2536\n",
      "才能           2533\n",
      "10           2503\n",
      "小孩           2435\n",
      "還好           2394\n",
      "電影           2378\n",
      "新聞           2378\n",
      "韓國           2370\n",
      "鄉民           2360\n",
      "XD           2285\n",
      "的掛           2237\n",
      "地方           2193\n",
      "容易           2191\n",
      "不過           2181\n",
      "有加           2112\n",
      "ptt          2110\n",
      "工具           2097\n",
      "英文           2085\n",
      "最強           2071\n",
      "警察           2067\n",
      "注意           2033\n",
      "明天           2028\n",
      "不好           2026\n",
      "不想           2012\n",
      "多久           2006\n",
      "請問           1996\n",
      "最近           1991\n",
      "結婚           1974\n",
      "機會           1967\n",
      "高中           1956\n",
      "上班           1956\n",
      "高雄           1948\n",
      "兩個           1947\n",
      "怎辦           1936\n",
      "搞頭           1933\n",
      "支持           1932\n",
      "畢業           1932\n",
      "學校           1917\n",
      "女森           1906\n",
      "人生           1898\n",
      "名字           1891\n",
      "那種           1883\n",
      "不錯           1874\n",
      "記得           1873\n",
      "學生           1867\n",
      "算是           1843\n",
      "有什麼          1837\n",
      "人類           1826\n",
      "這是           1811\n",
      "PTT          1789\n",
      "還在           1771\n"
     ]
    },
    {
     "data": {
      "image/png": "[encoded data removed]",
      "text/plain": [
       "<Figure size 432x288 with 1 Axes>"
      ]
     },
     "metadata": {
      "needs_background": "light"
     },
     "output_type": "display_data"
    }
   ],
   "source": [
    "import jieba  \n",
    "txt = open(\"hw1-dataset.txt\", encoding=\"utf-8\").read()  \n",
    "#加載停用詞表  \n",
    "stopwords = [line.strip() for line in open(\"hw1-stopset.txt\",encoding=\"utf-8\").readlines()]  \n",
    "words  = jieba.lcut(txt)  \n",
    "counts = {}  \n",
    "for word in words:  \n",
    "    #不在停用詞表中  \n",
    "    if word not in stopwords:  \n",
    "        #不統計字數爲一的詞  \n",
    "        if len(word) == 1:  \n",
    "            continue  \n",
    "        else:  \n",
    "            counts[word] = counts.get(word,0) + 1  \n",
    "items = list(counts.items())  \n",
    "items.sort(key=lambda x:x[1], reverse=True)\n",
    "word=[]\n",
    "count=[]\n",
    "for i in range(100):\n",
    "    a, b = items[i]\n",
    "    word.append(a)\n",
    "    count.append(b)\n",
    "    index=range(100)\n",
    "    print (\"{:<10}{:>7}\".format(a, b, linestyle=\". -\") )\n",
    "plt.plot(index,count) #畫線\n",
    "plt.xlabel('No.') # 設定x軸標題\n",
    "plt.ylabel('Occurrences') # 設定y軸標題\n",
    "plt.title('The frequency of words') # 設定圖表標題\n",
    "plt.show()"
   ]
  },
  {
   "cell_type": "code",
   "execution_count": null,
   "metadata": {},
   "outputs": [],
   "source": [
    "## TF-idf"
   ]
  },
  {
   "cell_type": "code",
   "execution_count": null,
   "metadata": {},
   "outputs": [],
   "source": [
    "import matplotlib.pyplot as plt\n",
    "import numpy as np\n",
    "import jieba\n",
    "import jieba.analyse\n",
    "from optparse import OptionParser\n",
    "txt = open(\"hw1-dataset.txt\", encoding=\"utf-8\").read()  \n",
    "words  = jieba.lcut(txt)  \n",
    "counts = {}  \n",
    "tfidfj=jieba.analyse.extract_tags(txt, topK=100, withWeight=True, allowPOS=())\n",
    "c=[]\n",
    "for i in range(100):\n",
    "    c.append(tfidfj[i][1])\n",
    "plt.plot(100,c)\n",
    "plt.show() #顯示繪製的圖形\n",
    "!"
   ]
  },
  {
   "cell_type": "code",
   "execution_count": 21,
   "metadata": {},
   "outputs": [
    {
     "name": "stdout",
     "output_type": "stream",
     "text": [
      "八卦,台灣,肥宅,中國,真的,喜歡,一堆,感覺,女生,這種\n"
     ]
    }
   ],
   "source": [
    "import jieba\n",
    "import jieba.analyse\n",
    "content = open('hw1-dataset.txt', 'r', encoding='utf-8').read()\n",
    "jieba.analyse.set_stop_words(\"hw1-stopset.txt\")\n",
    "tags = jieba.analyse.extract_tags(content, topK=10)\n",
    "print(\",\".join(tags))"
   ]
  },
  {
   "cell_type": "code",
   "execution_count": null,
   "metadata": {},
   "outputs": [],
   "source": [
    "import jieba\n",
    "import jieba.analyse\n",
    "content = open('hw1-dataset.txt', 'r', encoding='utf-8').read()\n",
    "jieba.analyse.set_stop_words(\"hw1-stopset.txt\")\n",
    "tags = jieba.analyse.extract_tags(content, topK=10, withWeight=True)\n",
    "for tag in tags:\n",
    "    print(\"tag:%s\\t\\t weight:%f\"%(tag[0],tag[1]))"
   ]
  },
  {
   "cell_type": "code",
   "execution_count": null,
   "metadata": {},
   "outputs": [],
   "source": []
  },
  {
   "cell_type": "code",
   "execution_count": null,
   "metadata": {},
   "outputs": [],
   "source": []
  }
 ],
 "metadata": {
  "kernelspec": {
   "display_name": "Python 3",
   "language": "python",
   "name": "python3"
  },
  "language_info": {
   "codemirror_mode": {
    "name": "ipython",
    "version": 3
   },
   "file_extension": ".py",
   "mimetype": "text/x-python",
   "name": "python",
   "nbconvert_exporter": "python",
   "pygments_lexer": "ipython3",
   "version": "3.8.5"
  }
 },
 "nbformat": 4,
 "nbformat_minor": 4
}
