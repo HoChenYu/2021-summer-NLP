{
 "cells": [
  {
   "cell_type": "code",
   "execution_count": null,
   "id": "ec3e21a1",
   "metadata": {},
   "outputs": [],
   "source": [
    "import requests\n",
    "import re\n",
    "from bs4 import BeautifulSoup\n",
    "import pandas as pd\n",
    "# 搜尋目前上映那些電影，擷取出其ID資訊\n",
    "title_list = []\n",
    "date_list = []\n",
    "plot_list = []\n",
    "type_list = []\n",
    "for i in range(10):\n",
    "    url = \"https://movies.yahoo.com.tw/movieinfo_main/\" + str(i)\n",
    "    r = requests.get(url)\n",
    "    web_content = r.text\n",
    "    soup = BeautifulSoup(web_content, 'lxml')\n",
    "    movie_html = soup.find('h1')\n",
    "    print(i)\n",
    "    if(movie_html != None):\n",
    "        print(\"電影名稱:\"+movie_html.string)\n",
    "        title_list.append(movie_html.string)\n",
    "        movie_type1 = soup.find('div', class_ =\"level_name_box\")\n",
    "        movie_type = movie_type1.find_all('a', class_ = \"gabtn\")\n",
    "        print(\"分類:\")\n",
    "        type = []\n",
    "        for movie_t in movie_type:\n",
    "            type.append(movie_t.string.strip('\\n').strip('').strip('\\n'))\n",
    "            print(movie_t.string.strip('\\n').strip(' ').strip('\\n'))\n",
    "        type_list.append(type)\n",
    "        movie_plot1 = soup.find('div', class_ = \"gray_infobox_inner\")\n",
    "        movie_plot = movie_plot1.find('span')\n",
    "        print(movie_plot)\n",
    "        plot_list.append(movie_plot)\n",
    "        movie_date1 = soup.find('div', class_ = \"movie_intro_info_r\")\n",
    "        movie_date = movie_date1.find('span')\n",
    "        print(movie_date.string)\n",
    "        date_list.append(movie_date.string)\n",
    "df_movie_id = pd.DataFrame()\n",
    "df_movie_id[\"電影\"]=title_list\n",
    "df_movie_id[\"分類\"]=type_list\n",
    "df_movie_id[\"劇情介紹\"]=plot_list\n",
    "df_movie_id[\"上映日期\"]=date_list\n",
    "#存檔案\n",
    "df_movie_id.to_csv(\"./123.csv\",encoding=\"utf-8-sig\")"
   ]
  },
  {
   "cell_type": "code",
   "execution_count": null,
   "id": "eef8ff2c",
   "metadata": {},
   "outputs": [],
   "source": []
  }
 ],
 "metadata": {
  "kernelspec": {
   "display_name": "Python 3",
   "language": "python",
   "name": "python3"
  },
  "language_info": {
   "codemirror_mode": {
    "name": "ipython",
    "version": 3
   },
   "file_extension": ".py",
   "mimetype": "text/x-python",
   "name": "python",
   "nbconvert_exporter": "python",
   "pygments_lexer": "ipython3",
   "version": "3.8.5"
  }
 },
 "nbformat": 4,
 "nbformat_minor": 5
}
