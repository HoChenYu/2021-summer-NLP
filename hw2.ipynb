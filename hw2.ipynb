{
 "cells": [
  {
   "cell_type": "code",
   "execution_count": null,
   "id": "406957fd",
   "metadata": {},
   "outputs": [],
   "source": [
    "import requests\n",
    "import re\n",
    "from bs4 import BeautifulSoup\n",
    "import pandas as pd\n",
    "# 搜尋目前上映那些電影，擷取出其ID資訊\n",
    "title_list = []\n",
    "id_list = []\n",
    "for i in range(10000):\n",
    "    url = \"https://movies.yahoo.com.tw/movieinfo_main/\" + str(i)\n",
    "    resp = requests.get(url)\n",
    "    resp.encoding = 'utf-8'\n",
    "    #print(resp.text)\n",
    "    soup = BeautifulSoup(resp.text, 'lxml')\n",
    "    movie_html = soup.find(\"h1\")\n",
    "    print(i)\n",
    "    if(movie_html != None):\n",
    "        title_list.append(movie_html)\n",
    "        id_list.append(i)\n",
    "        print(movie_html)\n",
    "df_movie_id = pd.DataFrame()\n",
    "df_movie_id[\"電影\"]=title_list\n",
    "df_movie_id[\"ID\"]=id_list\n",
    "#存到檔案做備用\n",
    "df_movie_id.to_csv(\"./movie.csv\",encoding=\"utf-8-sig\")"
   ]
  },
  {
   "cell_type": "code",
   "execution_count": null,
   "id": "1a82ee31",
   "metadata": {},
   "outputs": [],
   "source": []
  }
 ],
 "metadata": {
  "kernelspec": {
   "display_name": "Python 3",
   "language": "python",
   "name": "python3"
  },
  "language_info": {
   "codemirror_mode": {
    "name": "ipython",
    "version": 3
   },
   "file_extension": ".py",
   "mimetype": "text/x-python",
   "name": "python",
   "nbconvert_exporter": "python",
   "pygments_lexer": "ipython3",
   "version": "3.8.5"
  }
 },
 "nbformat": 4,
 "nbformat_minor": 5
}
