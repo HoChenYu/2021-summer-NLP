{
 "cells": [
  {
   "cell_type": "code",
   "execution_count": 4,
   "id": "406957fd",
   "metadata": {},
   "outputs": [
    {
     "name": "stdout",
     "output_type": "stream",
     "text": [
      "0\n",
      "1\n",
      "<h1>一世狂野</h1>\n",
      "2\n",
      "<h1>玩命關頭</h1>\n",
      "3\n",
      "<h1>戰雲密佈</h1>\n",
      "4\n",
      "<h1>騎士風雲錄</h1>\n",
      "5\n",
      "<h1>金法尤物</h1>\n",
      "6\n",
      "<h1>瘋狂世界</h1>\n",
      "7\n",
      "<h1>震撼教育</h1>\n",
      "8\n",
      "<h1>神鬼第六感</h1>\n",
      "9\n"
     ]
    }
   ],
   "source": [
    "import requests\n",
    "import re\n",
    "from bs4 import BeautifulSoup\n",
    "import pandas as pd\n",
    "# 搜尋目前上映那些電影，擷取出其ID資訊\n",
    "title_list = []\n",
    "id_list = []\n",
    "for i in range(10):\n",
    "    url = \"https://movies.yahoo.com.tw/movieinfo_main/\" + str(i)\n",
    "    resp = requests.get(url)\n",
    "    resp.encoding = 'utf-8'\n",
    "    soup = BeautifulSoup(resp.text, 'lxml')\n",
    "    movie_html = soup.find(\"h1\")\n",
    "    print(i)\n",
    "    if(movie_html != None):\n",
    "        title_list.append(movie_html)\n",
    "        id_list.append(i)\n",
    "        print(movie_html)\n",
    "df_movie_id = pd.DataFrame()\n",
    "df_movie_id[\"電影\"]=title_list\n",
    "df_movie_id[\"ID\"]=id_list\n",
    "#存到檔案做備用\n",
    "df_movie_id.to_csv(\"./movie1.csv\",encoding=\"utf-8-sig\")"
   ]
  },
  {
   "cell_type": "code",
   "execution_count": null,
   "id": "1a82ee31",
   "metadata": {},
   "outputs": [],
   "source": []
  }
 ],
 "metadata": {
  "kernelspec": {
   "display_name": "Python 3",
   "language": "python",
   "name": "python3"
  },
  "language_info": {
   "codemirror_mode": {
    "name": "ipython",
    "version": 3
   },
   "file_extension": ".py",
   "mimetype": "text/x-python",
   "name": "python",
   "nbconvert_exporter": "python",
   "pygments_lexer": "ipython3",
   "version": "3.8.5"
  }
 },
 "nbformat": 4,
 "nbformat_minor": 5
}
